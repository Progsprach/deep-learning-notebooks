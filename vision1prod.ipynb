{
 "cells": [
  {
   "cell_type": "code",
   "execution_count": 1,
   "metadata": {
    "gradient": {}
   },
   "outputs": [],
   "source": [
    "import fastbook\n",
    "fastbook.setup_book()\n",
    "from fastbook import *\n",
    "from fastai.vision.widgets import *\n",
    "import numpy"
   ]
  },
  {
   "cell_type": "code",
   "execution_count": 2,
   "metadata": {
    "gradient": {}
   },
   "outputs": [],
   "source": [
    "path = Path()\n",
    "learn_inf=load_learner(path/'cards.pkl')"
   ]
  },
  {
   "cell_type": "code",
   "execution_count": 3,
   "metadata": {
    "gradient": {}
   },
   "outputs": [],
   "source": [
    "names= \"Magic\", \"Pokémon\", \"Yu-Gi-Oh!\""
   ]
  },
  {
   "cell_type": "code",
   "execution_count": 4,
   "metadata": {
    "gradient": {},
    "scrolled": false
   },
   "outputs": [],
   "source": [
    "prompt = widgets.HTML(value=\"<h3>Magic, Pokémon or Yu-Gi-Oh?</h3>\")\n",
    "btn_upload = widgets.FileUpload()\n",
    "btn_classify = widgets.Button(description=\"Classify\",tooltip=\"Ask the network!\")\n",
    "out_pl = widgets.Output()\n",
    "out_pl.clear_output()\n",
    "results = widgets.HTML(value=\"\")\n",
    "table = widgets.HTML(value=\"\")\n",
    "def classify(change):\n",
    "    img = PILImage.create(btn_upload.data[-1])\n",
    "    learn_inf.predict(img)\n",
    "    with out_pl: display(img.to_thumb(128,128))\n",
    "    pred,pred_idx,probs = learn_inf.predict(img)\n",
    "    probs = probs*100\n",
    "    pct= [round(probs[i].item(),3) for i in range(3)]\n",
    "    results.value = f\"I think this is a {names[pred_idx]} card and I'm {pct[pred_idx]}% sure.\"\n",
    "    table.value = f\"<table><tr><td>{names[0]}</td><td>{names[1]}</td><td>{names[2]}</td></tr><tr><td>{pct[0]}%</td><td>{pct[1]}%</td><td>{pct[2]}%</td></tr></table>\"\n",
    "btn_classify.on_click(classify)\n"
   ]
  },
  {
   "cell_type": "code",
   "execution_count": 5,
   "metadata": {
    "gradient": {}
   },
   "outputs": [
    {
     "data": {
      "application/vnd.jupyter.widget-view+json": {
       "model_id": "97eb8da6548c4e2b9605906af339ebbe",
       "version_major": 2,
       "version_minor": 0
      },
      "text/plain": [
       "VBox(children=(HTML(value='<h3>Magic, Pokémon or Yu-Gi-Oh?</h3>'), FileUpload(value={}, description='Upload'),…"
      ]
     },
     "metadata": {},
     "output_type": "display_data"
    }
   ],
   "source": [
    "VBox([prompt,btn_upload,btn_classify,out_pl,results,table])"
   ]
  },
  {
   "cell_type": "code",
   "execution_count": null,
   "metadata": {},
   "outputs": [],
   "source": []
  }
 ],
 "metadata": {
  "kernelspec": {
   "display_name": "Python 3",
   "language": "python",
   "name": "python3"
  },
  "language_info": {
   "codemirror_mode": {
    "name": "ipython",
    "version": 3
   },
   "file_extension": ".py",
   "mimetype": "text/x-python",
   "name": "python",
   "nbconvert_exporter": "python",
   "pygments_lexer": "ipython3",
   "version": "3.8.6"
  }
 },
 "nbformat": 4,
 "nbformat_minor": 4
}
